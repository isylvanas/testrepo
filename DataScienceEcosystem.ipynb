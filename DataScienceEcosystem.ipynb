{
 "cells": [
  {
   "cell_type": "markdown",
   "id": "9e2beadb-0a16-4c3e-98ed-e0209937a477",
   "metadata": {},
   "source": [
    "###### Data Science Tools and Ecosystem"
   ]
  },
  {
   "cell_type": "markdown",
   "id": "113aa606-cce2-413c-b8ee-59697ceca743",
   "metadata": {},
   "source": [
    "In this notebook, Data Science Tools and Ecosystem are summarized."
   ]
  },
  {
   "cell_type": "markdown",
   "id": "e2cde27a-7995-405f-8ddf-3a53409783f4",
   "metadata": {},
   "source": [
    "Some of the popular languages that Data Scientists use are:"
   ]
  },
  {
   "cell_type": "markdown",
   "id": "918f8672-45c3-4f8d-85a5-f535edbb9c13",
   "metadata": {},
   "source": [
    "1. Python\n",
    "2. R\n",
    "3. Julia"
   ]
  },
  {
   "cell_type": "markdown",
   "id": "a8d03b3d-c000-4020-863e-7ca9215ceceb",
   "metadata": {},
   "source": [
    "Some of the commonly used libraries used by Data Scientists include:"
   ]
  },
  {
   "cell_type": "markdown",
   "id": "b1527e3a-74f1-48b5-83c4-45aa03a6ac5b",
   "metadata": {},
   "source": [
    "1. Pandas\n",
    "2. NumPy\n",
    "3. Matplotlib\n",
    "4. Scikit-learn\n",
    "\n"
   ]
  },
  {
   "cell_type": "markdown",
   "id": "eb9e6d28-5d76-43ea-bb0a-44c3d72ec42d",
   "metadata": {},
   "source": [
    "|Data Science Tools|\n",
    "|---------------------|\n",
    "|Python|\n",
    "|TensorFlow|\n",
    "|Apache Hadoop|"
   ]
  },
  {
   "cell_type": "markdown",
   "id": "bcafcdd8-21a3-4094-9c48-a7e5df555333",
   "metadata": {},
   "source": [
    "Below are a few examples of evaluating arithmetic expressions in Python"
   ]
  },
  {
   "cell_type": "code",
   "execution_count": 2,
   "id": "458f03b5-af28-427d-ba1a-0ff27cef289b",
   "metadata": {
    "tags": []
   },
   "outputs": [
    {
     "data": {
      "text/plain": [
       "17"
      ]
     },
     "execution_count": 2,
     "metadata": {},
     "output_type": "execute_result"
    }
   ],
   "source": [
    "# This a simple arithmetic expression to mutiply then add integers\n",
    "(3*4)+5\n"
   ]
  },
  {
   "cell_type": "code",
   "execution_count": 3,
   "id": "f902e0c5-8c1e-45ab-92d7-7c5c4938b907",
   "metadata": {
    "tags": []
   },
   "outputs": [
    {
     "data": {
      "text/plain": [
       "3.3333333333333335"
      ]
     },
     "execution_count": 3,
     "metadata": {},
     "output_type": "execute_result"
    }
   ],
   "source": [
    " # This will convert 200 minutes to hours by diving by 60\n",
    "200/60"
   ]
  },
  {
   "cell_type": "markdown",
   "id": "cdff7898-ab5a-45ed-9099-11853ca40de8",
   "metadata": {},
   "source": [
    "**Objectives**:"
   ]
  },
  {
   "cell_type": "markdown",
   "id": "4a44cb0e-09de-47b0-b917-008c5a72040f",
   "metadata": {},
   "source": [
    "* Python\n",
    "* Julia\n",
    "* RStudio\n"
   ]
  },
  {
   "cell_type": "markdown",
   "id": "4878f34a-41c3-4b9b-94d8-79717fab4fc6",
   "metadata": {},
   "source": [
    "## Author\n",
    "Kai Li"
   ]
  },
  {
   "cell_type": "code",
   "execution_count": null,
   "id": "6712bc02-bbdb-4683-bfbf-151902668ca5",
   "metadata": {},
   "outputs": [],
   "source": []
  }
 ],
 "metadata": {
  "kernelspec": {
   "display_name": "Python",
   "language": "python",
   "name": "conda-env-python-py"
  },
  "language_info": {
   "codemirror_mode": {
    "name": "ipython",
    "version": 3
   },
   "file_extension": ".py",
   "mimetype": "text/x-python",
   "name": "python",
   "nbconvert_exporter": "python",
   "pygments_lexer": "ipython3",
   "version": "3.7.12"
  }
 },
 "nbformat": 4,
 "nbformat_minor": 5
}
